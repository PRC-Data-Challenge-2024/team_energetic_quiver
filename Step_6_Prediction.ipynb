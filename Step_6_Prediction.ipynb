{
 "cells": [
  {
   "cell_type": "code",
   "id": "initial_id",
   "metadata": {
    "collapsed": true,
    "ExecuteTime": {
     "end_time": "2024-10-27T23:26:02.393064300Z",
     "start_time": "2024-10-27T23:26:02.380032900Z"
    }
   },
   "source": [
    "# Import necessary libraries\n",
    "import pandas as pd\n",
    "from sklearn.model_selection import KFold, cross_val_score\n",
    "from sklearn.preprocessing import StandardScaler, OneHotEncoder\n",
    "from sklearn.compose import ColumnTransformer\n",
    "from sklearn.pipeline import make_pipeline\n",
    "from xgboost import XGBRegressor\n",
    "from sklearn.metrics import mean_squared_error\n",
    "from datetime import datetime\n",
    "import xgboost as xgb\n",
    "\n",
    "import numpy as np\n",
    "import pandas as pd\n",
    "from sklearn.model_selection import KFold, cross_val_score\n",
    "from sklearn.preprocessing import StandardScaler, OneHotEncoder, OrdinalEncoder\n",
    "from sklearn.metrics import mean_squared_error\n",
    "from datetime import datetime\n",
    "import math\n",
    "from sklearn.compose import ColumnTransformer\n",
    "from sklearn.pipeline import make_pipeline\n",
    "# Set random seed for reproducibility\n",
    "random_seed = 42\n",
    "\n",
    "# Set the seed for numpy\n",
    "np.random.seed(random_seed)"
   ],
   "outputs": [],
   "execution_count": 17
  },
  {
   "cell_type": "code",
   "outputs": [],
   "source": [
    "def refine_with_aircraft_type(output):\n",
    "    prcdata_mtow_etow_df = pd.read_csv('../PRCData_MTOW_ETOW.csv')\n",
    "\n",
    "    # Merge the two dataframes based on the aircraft type\n",
    "    merged_df = pd.merge(output, prcdata_mtow_etow_df, left_on='aircraft_type', right_on='Aircraft', how='left')\n",
    "    \n",
    "    # Calculate the 20% margin\n",
    "    merged_df['lower_limit'] = merged_df['OEW_kg']   # 20% lower than OEW\n",
    "    merged_df['upper_limit'] = merged_df['MTOW_kg']  # 20% higher than MTOW\n",
    "    \n",
    "    # Now we clip the tow_predicted values between the MTOW and OEW values for each aircraft type\n",
    "    merged_df['tow_updated_by_type'] = merged_df['tow_predicted'].clip(lower=merged_df['lower_limit'], upper=merged_df['upper_limit'])\n",
    "    \n",
    "    return merged_df"
   ],
   "metadata": {
    "collapsed": false,
    "ExecuteTime": {
     "end_time": "2024-10-27T23:26:03.506746700Z",
     "start_time": "2024-10-27T23:26:03.486695100Z"
    }
   },
   "id": "544282671583910a",
   "execution_count": 18
  },
  {
   "cell_type": "code",
   "outputs": [],
   "source": [
    "def refine_with_standard_tow(df):\n",
    "    df_standard = pd.read_csv('../some_standard_tow.csv')\n",
    "    df_standard = df_standard[df_standard['total_count']>10]\n",
    "    df_standard = df_standard.drop(columns=['total_count'])\n",
    "    df_updated = pd.merge(df, df_standard, on=['airline', 'aircraft_type', 'ades', 'adep'], how='left')\n",
    "    df_updated.loc[:, 'tow'] = df_updated['single_tow_value'].combine_first(df_updated['tow_updated_by_type'])\n",
    "    return df_updated"
   ],
   "metadata": {
    "collapsed": false,
    "ExecuteTime": {
     "end_time": "2024-10-27T23:26:04.066219700Z",
     "start_time": "2024-10-27T23:26:04.061219300Z"
    }
   },
   "id": "5bbba6825e87b9",
   "execution_count": 19
  },
  {
   "metadata": {
    "ExecuteTime": {
     "end_time": "2024-10-27T23:27:18.078447300Z",
     "start_time": "2024-10-27T23:27:18.052394900Z"
    }
   },
   "cell_type": "code",
   "source": [
    "def processing_X(data):\n",
    "    # Convert 'actual_offblock_time' and 'arrival_time' to 24-hour format (extract the hour)\n",
    "    data['actual_offblock_hour'] = pd.to_datetime(data['actual_offblock_time']).dt.hour\n",
    "    data['arrival_hour'] = pd.to_datetime(data['arrival_time']).dt.hour\n",
    "    \n",
    "    # Convert 'date' to the month\n",
    "    data['month'] = pd.to_datetime(data['date']).dt.month\n",
    "    \n",
    "    # Define the features and target variable\n",
    "    X = data.drop(['tow', 'flight_id', 'name_adep','name_ades', 'callsign', 'actual_offblock_time', 'arrival_time', 'date', 'takeoff_groundspeed', 'takeoff_time_duration'], axis=1)\n",
    "    y = data['tow'].values\n",
    "    \n",
    "    # Categorical and numerical features\n",
    "    categorical_features = ['adep', 'ades', 'country_code_adep', 'country_code_ades',\n",
    "                            'aircraft_type', 'wtc', 'airline']\n",
    "    numerical_features = ['flight_duration', 'taxiout_time', 'flown_distance', 'actual_offblock_hour', \n",
    "                          'arrival_hour', 'month', 'highest_altitude','cruising_altitude', 'time_to_reach_altitude_mode', \n",
    "                          'flight_dist', 'average_u_component_of_wind', 'average_v_component_of_wind', 'average_temperature', ]\n",
    "\n",
    "    # 'from_start_time_to_reach_altitude_mode',\n",
    "    \n",
    "    # Define the preprocessor\n",
    "    # Define the preprocessor\n",
    "    preprocessor = ColumnTransformer(\n",
    "        transformers=[\n",
    "            ('num', StandardScaler(), numerical_features),\n",
    "            ('cat', OrdinalEncoder(handle_unknown='use_encoded_value', unknown_value=-1), categorical_features)\n",
    "        ])\n",
    "    X_trans = preprocessor.fit_transform(X)\n",
    "    return X_trans, preprocessor, y"
   ],
   "id": "2f4510cc9c08deea",
   "outputs": [],
   "execution_count": 24
  },
  {
   "cell_type": "code",
   "outputs": [],
   "source": [
    "def process_input_file(df):\n",
    "    df['actual_offblock_hour'] = pd.to_datetime(df['actual_offblock_time']).dt.hour\n",
    "    df['arrival_hour'] = pd.to_datetime(df['arrival_time']).dt.hour\n",
    "    df['month'] = pd.to_datetime(df['date']).dt.month\n",
    "    return df"
   ],
   "metadata": {
    "collapsed": false,
    "ExecuteTime": {
     "end_time": "2024-10-27T23:27:19.488055200Z",
     "start_time": "2024-10-27T23:27:19.482556600Z"
    }
   },
   "id": "eec334ae79f55acb",
   "execution_count": 25
  },
  {
   "metadata": {
    "ExecuteTime": {
     "end_time": "2024-10-27T23:28:36.124308200Z",
     "start_time": "2024-10-27T23:28:25.909395900Z"
    }
   },
   "cell_type": "code",
   "source": [
    "# Load your training dataset (with both features and 'tow' column)\n",
    "# Replace 'train_dataset.csv' with the actual path to your training dataset\n",
    "train_data = pd.read_csv('../challenge_set_update.csv')\n",
    "train_data = train_data.drop_duplicates(subset=['flight_id'])\n",
    "# print(len(train_data))\n",
    "# train_data = process_input_file(train_data)\n",
    "test_data = pd.read_csv('../submission_set_update.csv')\n",
    "test_data = test_data.drop_duplicates(subset=['flight_id'])\n",
    "# print(len(test_data))\n",
    "# test_data = process_input_file(test_data)\n",
    "\n",
    "all_data = pd.concat([train_data, test_data], ignore_index=True)\n",
    "\n",
    "len_train = len(train_data)\n",
    "\n",
    "# Procssing X \n",
    "X_input, preprocessor, y_input = processing_X(all_data)\n",
    "\n",
    "X_train = X_input[:len_train, :]\n",
    "# print(X_train.shape)\n",
    "predict_data = X_input[len_train:, :]\n",
    "#print(predict_data.shape)\n",
    "\n",
    "y_train = y_input[:len_train]\n",
    "\n",
    "# y_train = train_data['tow']  # Target variable (tow)\n",
    "\n",
    "# Store the 'flight_id' from the raw data\n",
    "flight_ids = test_data['flight_id']\n",
    "aircraft_types = test_data['aircraft_type']\n",
    "airlines = test_data['airline']\n",
    "lst_ades = test_data['ades']\n",
    "lst_adep = test_data['adep']\n",
    "\n",
    "# Initialize the XGBoost Regressor\n",
    "xg_reg = xgb.XGBRegressor(objective='reg:squarederror', colsample_bytree=0.9, learning_rate=0.05,\n",
    "                          max_depth=10, alpha=0.5, n_estimators=900)\n",
    "# xg_reg = xgb.XGBRegressor(objective='reg:squarederror', colsample_bytree=0.3, learning_rate=0.1, max_depth=5, alpha=10, n_estimators=300)\n",
    "\n",
    "# Train the model\n",
    "xg_reg.fit(X_train, y_train)\n",
    "\n",
    "# Predict on the new dataset (without 'tow' column)\n",
    "y_pred = xg_reg.predict(predict_data)\n",
    "\n",
    "# Save the predictions to a CSV file\n",
    "output = pd.DataFrame({'flight_id': flight_ids, 'aircraft_type': aircraft_types, 'airline':airlines, 'ades':lst_ades, 'adep':lst_adep, 'tow_predicted': y_pred})\n",
    "\n",
    "# Refine with the aircraft type\n",
    "merged_df = refine_with_aircraft_type(output)\n",
    "# merged_df = merged_df.rename(columns={'tow_updated_by_type': 'tow'})\n",
    "# Refine with the standard tow\n",
    "merged_df = refine_with_standard_tow(merged_df)\n",
    "\n",
    "# Select the relevant columns to display: flight_id, aircraft_type, tow_predicted, tow_clipped\n",
    "result_df = merged_df[['flight_id', 'tow']]\n",
    "\n",
    "result_df.to_csv('my_submission.csv', index=False)\n",
    "\n",
    "print(\"Predictions saved to 'my_submission.csv'\")\n"
   ],
   "id": "a6958f2b3a4bb280",
   "outputs": [
    {
     "name": "stdout",
     "output_type": "stream",
     "text": [
      "369013\n",
      "158149\n",
      "(369013, 20)\n",
      "(158149, 20)\n",
      "Predictions saved to 'my_submission.csv'\n"
     ]
    }
   ],
   "execution_count": 27
  }
 ],
 "metadata": {
  "kernelspec": {
   "display_name": "Python 3",
   "language": "python",
   "name": "python3"
  },
  "language_info": {
   "codemirror_mode": {
    "name": "ipython",
    "version": 2
   },
   "file_extension": ".py",
   "mimetype": "text/x-python",
   "name": "python",
   "nbconvert_exporter": "python",
   "pygments_lexer": "ipython2",
   "version": "2.7.6"
  }
 },
 "nbformat": 4,
 "nbformat_minor": 5
}
