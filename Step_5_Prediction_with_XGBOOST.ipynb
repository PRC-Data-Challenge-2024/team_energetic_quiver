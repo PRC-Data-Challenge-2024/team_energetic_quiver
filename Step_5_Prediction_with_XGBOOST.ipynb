{
 "cells": [
  {
   "cell_type": "code",
   "id": "initial_id",
   "metadata": {
    "collapsed": true,
    "ExecuteTime": {
     "end_time": "2024-10-28T03:19:41.131114500Z",
     "start_time": "2024-10-28T03:19:41.117105300Z"
    }
   },
   "source": [
    "# Import necessary libraries\n",
    "import pandas as pd\n",
    "from sklearn.model_selection import KFold, cross_val_score\n",
    "from sklearn.preprocessing import StandardScaler, OneHotEncoder\n",
    "from sklearn.compose import ColumnTransformer\n",
    "from sklearn.pipeline import make_pipeline\n",
    "from xgboost import XGBRegressor\n",
    "from sklearn.metrics import mean_squared_error\n",
    "from datetime import datetime\n",
    "import xgboost as xgb\n",
    "\n",
    "import numpy as np\n",
    "import pandas as pd\n",
    "from sklearn.model_selection import KFold, cross_val_score\n",
    "from sklearn.preprocessing import StandardScaler, OneHotEncoder, OrdinalEncoder\n",
    "from sklearn.metrics import mean_squared_error\n",
    "from datetime import datetime\n",
    "import math\n",
    "from sklearn.compose import ColumnTransformer\n",
    "from sklearn.pipeline import make_pipeline\n",
    "# Set random seed for reproducibility\n",
    "random_seed = 42\n",
    "\n",
    "# Set the seed for numpy\n",
    "np.random.seed(random_seed)"
   ],
   "outputs": [],
   "execution_count": 5
  },
  {
   "metadata": {
    "ExecuteTime": {
     "end_time": "2024-10-28T03:19:42.552860500Z",
     "start_time": "2024-10-28T03:19:42.537326900Z"
    }
   },
   "cell_type": "code",
   "source": [
    "def processing_X(data):\n",
    "    # Convert 'actual_offblock_time' and 'arrival_time' to 24-hour format (extract the hour)\n",
    "    data['actual_offblock_hour'] = pd.to_datetime(data['actual_offblock_time']).dt.hour\n",
    "    data['arrival_hour'] = pd.to_datetime(data['arrival_time']).dt.hour\n",
    "    \n",
    "    # Convert 'date' to the month\n",
    "    data['month'] = pd.to_datetime(data['date']).dt.month\n",
    "    \n",
    "    # Define the features and target variable\n",
    "    X = data.drop(['tow', 'flight_id', 'name_adep','name_ades', 'callsign', 'actual_offblock_time', 'arrival_time', 'date', 'takeoff_groundspeed', 'takeoff_time_duration'], axis=1)\n",
    "    y = data['tow']\n",
    "    \n",
    "    # Categorical and numerical features\n",
    "    categorical_features = ['adep', 'ades', 'country_code_adep', 'country_code_ades',\n",
    "                            'aircraft_type', 'wtc', 'airline']\n",
    "    numerical_features = ['flight_duration', 'taxiout_time', 'flown_distance', 'actual_offblock_hour',\n",
    "                          'arrival_hour', 'month', 'highest_altitude','cruising_altitude', 'time_to_reach_altitude_mode',\n",
    "                          'average_u_component_of_wind', 'average_v_component_of_wind', 'average_temperature', 'flight_dist']\n",
    "\n",
    "    \n",
    "    # Define the preprocessor\n",
    "    # Define the preprocessor\n",
    "    preprocessor = ColumnTransformer(\n",
    "        transformers=[\n",
    "            ('num', StandardScaler(), numerical_features),\n",
    "            ('cat', OrdinalEncoder(handle_unknown='use_encoded_value', unknown_value=-1), categorical_features)\n",
    "        ])\n",
    "    X_trans = preprocessor.fit_transform(X)\n",
    "    return X_trans, preprocessor"
   ],
   "id": "2f4510cc9c08deea",
   "outputs": [],
   "execution_count": 6
  },
  {
   "cell_type": "code",
   "outputs": [],
   "source": [
    "def process_input_file(df):\n",
    "    df['actual_offblock_hour'] = pd.to_datetime(df['actual_offblock_time']).dt.hour\n",
    "    df['arrival_hour'] = pd.to_datetime(df['arrival_time']).dt.hour\n",
    "    df['month'] = pd.to_datetime(df['date']).dt.month\n",
    "    return df"
   ],
   "metadata": {
    "collapsed": false,
    "ExecuteTime": {
     "end_time": "2024-10-28T03:19:43.548943Z",
     "start_time": "2024-10-28T03:19:43.538935400Z"
    }
   },
   "id": "eec334ae79f55acb",
   "execution_count": 7
  },
  {
   "metadata": {
    "ExecuteTime": {
     "end_time": "2024-10-28T03:20:59.482304800Z",
     "start_time": "2024-10-28T03:20:54.560188Z"
    }
   },
   "cell_type": "code",
   "source": [
    "# Load your training dataset (with both features and 'tow' column)\n",
    "# Replace 'train_dataset.csv' with the actual path to your training dataset\n",
    "train_data = pd.read_csv('../challenge_set_update_v1.csv')\n",
    "train_data = process_input_file(train_data)\n",
    "test_data = pd.read_csv('../submission_set_update_v1.csv')\n",
    "test_data = process_input_file(test_data)\n",
    "\n",
    "all_data = pd.concat([train_data, test_data], ignore_index=True)\n",
    "\n",
    "len_train = len(train_data)\n",
    "\n",
    "# Procssing X \n",
    "X_input, preprocessor = processing_X(all_data)\n",
    "\n",
    "X_train = X_input[:len_train, :]\n",
    "predict_data = X_input[len_train:, :]\n",
    "\n",
    "y_train = train_data['tow']  # Target variable (tow)\n",
    "\n",
    "# Store the 'flight_id' from the raw data\n",
    "flight_ids = test_data['flight_id']\n",
    "aircraft_types = test_data['aircraft_type']\n",
    "\n",
    "# Initialize the XGBoost Regressor\n",
    "xg_reg = xgb.XGBRegressor(objective='reg:squarederror', colsample_bytree=0.3, learning_rate=0.1,\n",
    "                          max_depth=5, alpha=10, n_estimators=300)\n",
    "\n",
    "# Train the model\n",
    "xg_reg.fit(X_train, y_train)\n",
    "\n",
    "# Predict on the new dataset (without 'tow' column)\n",
    "y_pred = xg_reg.predict(predict_data)\n",
    "\n",
    "# Save the predictions to a CSV file\n",
    "output = pd.DataFrame({'flight_id': flight_ids, 'aircraft_type': aircraft_types, 'tow_predicted': y_pred})\n",
    "\n",
    "prcdata_mtow_etow_df = pd.read_csv('../PRCData_MTOW_ETOW.csv')\n",
    "\n",
    "# Merge the two dataframes based on the aircraft type\n",
    "merged_df = pd.merge(output, prcdata_mtow_etow_df, left_on='aircraft_type', right_on='Aircraft', how='left')\n",
    "\n",
    "# Calculate the 20% margin\n",
    "merged_df['lower_limit'] = merged_df['OEW_kg']   # 20% lower than OEW\n",
    "merged_df['upper_limit'] = merged_df['MTOW_kg']  # 20% higher than MTOW\n",
    "\n",
    "# Now we clip the tow_predicted values between the MTOW and OEW values for each aircraft type\n",
    "merged_df['tow'] = merged_df['tow_predicted'].clip(lower=merged_df['lower_limit'], upper=merged_df['upper_limit'])\n",
    "\n",
    "\n",
    "\n",
    "# Select the relevant columns to display: flight_id, aircraft_type, tow_predicted, tow_clipped\n",
    "result_df = merged_df[['flight_id', 'tow']]\n",
    "\n",
    "result_df.to_csv('my_submission.csv', index=False)\n",
    "\n",
    "print(\"Predictions saved to 'my_submission.csv'\")\n"
   ],
   "id": "a6958f2b3a4bb280",
   "outputs": [
    {
     "name": "stdout",
     "output_type": "stream",
     "text": [
      "Predictions saved to 'my_submission_v1.csv'\n"
     ]
    }
   ],
   "execution_count": 9
  }
 ],
 "metadata": {
  "kernelspec": {
   "display_name": "Python 3",
   "language": "python",
   "name": "python3"
  },
  "language_info": {
   "codemirror_mode": {
    "name": "ipython",
    "version": 2
   },
   "file_extension": ".py",
   "mimetype": "text/x-python",
   "name": "python",
   "nbconvert_exporter": "python",
   "pygments_lexer": "ipython2",
   "version": "2.7.6"
  }
 },
 "nbformat": 4,
 "nbformat_minor": 5
}
